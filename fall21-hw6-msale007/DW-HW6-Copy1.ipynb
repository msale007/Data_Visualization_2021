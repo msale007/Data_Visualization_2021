{
 "cells": [
  {
   "cell_type": "code",
   "execution_count": 1,
   "id": "a1a6cc8f",
   "metadata": {},
   "outputs": [],
   "source": [
    "#Import libraries \n",
    "import pandas as pd\n",
    "import numpy as np\n",
    "from numpy import *\n",
    "import matplotlib.pyplot as plt\n",
    "%matplotlib inline"
   ]
  },
  {
   "cell_type": "code",
   "execution_count": 2,
   "id": "69260176",
   "metadata": {
    "scrolled": true
   },
   "outputs": [
    {
     "name": "stderr",
     "output_type": "stream",
     "text": [
      "C:\\Users\\Maryam\\AppData\\Local\\Programs\\Python\\Python39\\lib\\site-packages\\IPython\\core\\interactiveshell.py:3441: FutureWarning: The error_bad_lines argument has been deprecated and will be removed in a future version.\n",
      "\n",
      "\n",
      "  exec(code_obj, self.user_global_ns, self.user_ns)\n"
     ]
    }
   ],
   "source": [
    "df_consum = pd.read_csv(\"C:/Maryam/ODU/Fall2021/DataVisualisation/HWs/HW6/Data/U.S._Product_Supplied_of_Finished_Motor_Gasoline.csv\",error_bad_lines=False)\n",
    "df_price = pd.read_csv(\"C:/Maryam/ODU/Fall2021/DataVisualisation/HWs/HW6/Data/U.S._Regular_All_Formulations_Retail_Gasoline_Prices.csv\",error_bad_lines=False)"
   ]
  },
  {
   "cell_type": "code",
   "execution_count": 3,
   "id": "985c1573",
   "metadata": {},
   "outputs": [
    {
     "name": "stdout",
     "output_type": "stream",
     "text": [
      "(920, 2)\n"
     ]
    },
    {
     "data": {
      "text/html": [
       "<div>\n",
       "<style scoped>\n",
       "    .dataframe tbody tr th:only-of-type {\n",
       "        vertical-align: middle;\n",
       "    }\n",
       "\n",
       "    .dataframe tbody tr th {\n",
       "        vertical-align: top;\n",
       "    }\n",
       "\n",
       "    .dataframe thead th {\n",
       "        text-align: right;\n",
       "    }\n",
       "</style>\n",
       "<table border=\"1\" class=\"dataframe\">\n",
       "  <thead>\n",
       "    <tr style=\"text-align: right;\">\n",
       "      <th></th>\n",
       "      <th>Month</th>\n",
       "      <th>U.S. Product Supplied of Finished Motor Gasoline Thousand Barrels per Day</th>\n",
       "    </tr>\n",
       "  </thead>\n",
       "  <tbody>\n",
       "    <tr>\n",
       "      <th>0</th>\n",
       "      <td>Aug-21</td>\n",
       "      <td>9111</td>\n",
       "    </tr>\n",
       "    <tr>\n",
       "      <th>1</th>\n",
       "      <td>Jul-21</td>\n",
       "      <td>9313</td>\n",
       "    </tr>\n",
       "    <tr>\n",
       "      <th>2</th>\n",
       "      <td>Jun-21</td>\n",
       "      <td>9273</td>\n",
       "    </tr>\n",
       "    <tr>\n",
       "      <th>3</th>\n",
       "      <td>May-21</td>\n",
       "      <td>9137</td>\n",
       "    </tr>\n",
       "    <tr>\n",
       "      <th>4</th>\n",
       "      <td>Apr-21</td>\n",
       "      <td>8791</td>\n",
       "    </tr>\n",
       "  </tbody>\n",
       "</table>\n",
       "</div>"
      ],
      "text/plain": [
       "    Month  \\\n",
       "0  Aug-21   \n",
       "1  Jul-21   \n",
       "2  Jun-21   \n",
       "3  May-21   \n",
       "4  Apr-21   \n",
       "\n",
       "   U.S. Product Supplied of Finished Motor Gasoline Thousand Barrels per Day  \n",
       "0                                               9111                          \n",
       "1                                               9313                          \n",
       "2                                               9273                          \n",
       "3                                               9137                          \n",
       "4                                               8791                          "
      ]
     },
     "execution_count": 3,
     "metadata": {},
     "output_type": "execute_result"
    }
   ],
   "source": [
    "print(df_consum.shape)\n",
    "df_consum.head()"
   ]
  },
  {
   "cell_type": "code",
   "execution_count": 4,
   "id": "717ddaaa",
   "metadata": {},
   "outputs": [
    {
     "name": "stdout",
     "output_type": "stream",
     "text": [
      "(374, 2)\n"
     ]
    },
    {
     "data": {
      "text/html": [
       "<div>\n",
       "<style scoped>\n",
       "    .dataframe tbody tr th:only-of-type {\n",
       "        vertical-align: middle;\n",
       "    }\n",
       "\n",
       "    .dataframe tbody tr th {\n",
       "        vertical-align: top;\n",
       "    }\n",
       "\n",
       "    .dataframe thead th {\n",
       "        text-align: right;\n",
       "    }\n",
       "</style>\n",
       "<table border=\"1\" class=\"dataframe\">\n",
       "  <thead>\n",
       "    <tr style=\"text-align: right;\">\n",
       "      <th></th>\n",
       "      <th>Month</th>\n",
       "      <th>U.S. Regular All Formulations Retail Gasoline Prices Dollars per Gallon</th>\n",
       "    </tr>\n",
       "  </thead>\n",
       "  <tbody>\n",
       "    <tr>\n",
       "      <th>0</th>\n",
       "      <td>21-Oct</td>\n",
       "      <td>3.291</td>\n",
       "    </tr>\n",
       "    <tr>\n",
       "      <th>1</th>\n",
       "      <td>21-Sep</td>\n",
       "      <td>3.175</td>\n",
       "    </tr>\n",
       "    <tr>\n",
       "      <th>2</th>\n",
       "      <td>21-Aug</td>\n",
       "      <td>3.158</td>\n",
       "    </tr>\n",
       "    <tr>\n",
       "      <th>3</th>\n",
       "      <td>21-Jul</td>\n",
       "      <td>3.136</td>\n",
       "    </tr>\n",
       "    <tr>\n",
       "      <th>4</th>\n",
       "      <td>21-Jun</td>\n",
       "      <td>3.064</td>\n",
       "    </tr>\n",
       "  </tbody>\n",
       "</table>\n",
       "</div>"
      ],
      "text/plain": [
       "    Month  \\\n",
       "0  21-Oct   \n",
       "1  21-Sep   \n",
       "2  21-Aug   \n",
       "3  21-Jul   \n",
       "4  21-Jun   \n",
       "\n",
       "   U.S. Regular All Formulations Retail Gasoline Prices Dollars per Gallon  \n",
       "0                                              3.291                        \n",
       "1                                              3.175                        \n",
       "2                                              3.158                        \n",
       "3                                              3.136                        \n",
       "4                                              3.064                        "
      ]
     },
     "execution_count": 4,
     "metadata": {},
     "output_type": "execute_result"
    }
   ],
   "source": [
    "print(df_price.shape)\n",
    "df_price.head()"
   ]
  },
  {
   "cell_type": "code",
   "execution_count": 5,
   "id": "cde8bcda",
   "metadata": {},
   "outputs": [],
   "source": [
    "df_price.drop([0,1],inplace=True)"
   ]
  },
  {
   "cell_type": "code",
   "execution_count": 6,
   "id": "9e5750ec",
   "metadata": {},
   "outputs": [
    {
     "data": {
      "text/html": [
       "<div>\n",
       "<style scoped>\n",
       "    .dataframe tbody tr th:only-of-type {\n",
       "        vertical-align: middle;\n",
       "    }\n",
       "\n",
       "    .dataframe tbody tr th {\n",
       "        vertical-align: top;\n",
       "    }\n",
       "\n",
       "    .dataframe thead th {\n",
       "        text-align: right;\n",
       "    }\n",
       "</style>\n",
       "<table border=\"1\" class=\"dataframe\">\n",
       "  <thead>\n",
       "    <tr style=\"text-align: right;\">\n",
       "      <th></th>\n",
       "      <th>Month</th>\n",
       "      <th>U.S. Regular All Formulations Retail Gasoline Prices Dollars per Gallon</th>\n",
       "    </tr>\n",
       "  </thead>\n",
       "  <tbody>\n",
       "    <tr>\n",
       "      <th>2</th>\n",
       "      <td>21-Aug</td>\n",
       "      <td>3.158</td>\n",
       "    </tr>\n",
       "    <tr>\n",
       "      <th>3</th>\n",
       "      <td>21-Jul</td>\n",
       "      <td>3.136</td>\n",
       "    </tr>\n",
       "    <tr>\n",
       "      <th>4</th>\n",
       "      <td>21-Jun</td>\n",
       "      <td>3.064</td>\n",
       "    </tr>\n",
       "    <tr>\n",
       "      <th>5</th>\n",
       "      <td>21-May</td>\n",
       "      <td>2.985</td>\n",
       "    </tr>\n",
       "    <tr>\n",
       "      <th>6</th>\n",
       "      <td>21-Apr</td>\n",
       "      <td>2.858</td>\n",
       "    </tr>\n",
       "  </tbody>\n",
       "</table>\n",
       "</div>"
      ],
      "text/plain": [
       "    Month  \\\n",
       "2  21-Aug   \n",
       "3  21-Jul   \n",
       "4  21-Jun   \n",
       "5  21-May   \n",
       "6  21-Apr   \n",
       "\n",
       "   U.S. Regular All Formulations Retail Gasoline Prices Dollars per Gallon  \n",
       "2                                              3.158                        \n",
       "3                                              3.136                        \n",
       "4                                              3.064                        \n",
       "5                                              2.985                        \n",
       "6                                              2.858                        "
      ]
     },
     "execution_count": 6,
     "metadata": {},
     "output_type": "execute_result"
    }
   ],
   "source": [
    "df_price.head()"
   ]
  },
  {
   "cell_type": "code",
   "execution_count": 7,
   "id": "e931a8af",
   "metadata": {},
   "outputs": [],
   "source": [
    "df_consum.drop(df_consum.index[372:920], inplace=True)"
   ]
  },
  {
   "cell_type": "code",
   "execution_count": 8,
   "id": "c62750f5",
   "metadata": {},
   "outputs": [
    {
     "name": "stdout",
     "output_type": "stream",
     "text": [
      "372\n",
      "372\n"
     ]
    }
   ],
   "source": [
    "print(len(df_price))\n",
    "print(len(df_consum))"
   ]
  },
  {
   "cell_type": "code",
   "execution_count": 9,
   "id": "43313ee4",
   "metadata": {},
   "outputs": [],
   "source": [
    "#df_price.reset_index(drop=True, inplace=True)"
   ]
  },
  {
   "cell_type": "code",
   "execution_count": 10,
   "id": "a07c4156",
   "metadata": {},
   "outputs": [],
   "source": [
    "#df_consum.reset_index(drop=True, inplace=True)"
   ]
  },
  {
   "cell_type": "code",
   "execution_count": 11,
   "id": "ee6addcd",
   "metadata": {},
   "outputs": [
    {
     "data": {
      "text/html": [
       "<div>\n",
       "<style scoped>\n",
       "    .dataframe tbody tr th:only-of-type {\n",
       "        vertical-align: middle;\n",
       "    }\n",
       "\n",
       "    .dataframe tbody tr th {\n",
       "        vertical-align: top;\n",
       "    }\n",
       "\n",
       "    .dataframe thead th {\n",
       "        text-align: right;\n",
       "    }\n",
       "</style>\n",
       "<table border=\"1\" class=\"dataframe\">\n",
       "  <thead>\n",
       "    <tr style=\"text-align: right;\">\n",
       "      <th></th>\n",
       "      <th>Month</th>\n",
       "      <th>U.S. Product Supplied of Finished Motor Gasoline Thousand Barrels per Day</th>\n",
       "      <th>Month</th>\n",
       "      <th>U.S. Regular All Formulations Retail Gasoline Prices Dollars per Gallon</th>\n",
       "    </tr>\n",
       "  </thead>\n",
       "  <tbody>\n",
       "    <tr>\n",
       "      <th>2</th>\n",
       "      <td>Aug-21</td>\n",
       "      <td>9111</td>\n",
       "      <td>21-Aug</td>\n",
       "      <td>3.158</td>\n",
       "    </tr>\n",
       "    <tr>\n",
       "      <th>3</th>\n",
       "      <td>Jul-21</td>\n",
       "      <td>9313</td>\n",
       "      <td>21-Jul</td>\n",
       "      <td>3.136</td>\n",
       "    </tr>\n",
       "    <tr>\n",
       "      <th>4</th>\n",
       "      <td>Jun-21</td>\n",
       "      <td>9273</td>\n",
       "      <td>21-Jun</td>\n",
       "      <td>3.064</td>\n",
       "    </tr>\n",
       "    <tr>\n",
       "      <th>5</th>\n",
       "      <td>May-21</td>\n",
       "      <td>9137</td>\n",
       "      <td>21-May</td>\n",
       "      <td>2.985</td>\n",
       "    </tr>\n",
       "    <tr>\n",
       "      <th>6</th>\n",
       "      <td>Apr-21</td>\n",
       "      <td>8791</td>\n",
       "      <td>21-Apr</td>\n",
       "      <td>2.858</td>\n",
       "    </tr>\n",
       "  </tbody>\n",
       "</table>\n",
       "</div>"
      ],
      "text/plain": [
       "    Month  \\\n",
       "2  Aug-21   \n",
       "3  Jul-21   \n",
       "4  Jun-21   \n",
       "5  May-21   \n",
       "6  Apr-21   \n",
       "\n",
       "   U.S. Product Supplied of Finished Motor Gasoline Thousand Barrels per Day  \\\n",
       "2                                               9111                           \n",
       "3                                               9313                           \n",
       "4                                               9273                           \n",
       "5                                               9137                           \n",
       "6                                               8791                           \n",
       "\n",
       "    Month  \\\n",
       "2  21-Aug   \n",
       "3  21-Jul   \n",
       "4  21-Jun   \n",
       "5  21-May   \n",
       "6  21-Apr   \n",
       "\n",
       "   U.S. Regular All Formulations Retail Gasoline Prices Dollars per Gallon  \n",
       "2                                              3.158                        \n",
       "3                                              3.136                        \n",
       "4                                              3.064                        \n",
       "5                                              2.985                        \n",
       "6                                              2.858                        "
      ]
     },
     "execution_count": 11,
     "metadata": {},
     "output_type": "execute_result"
    }
   ],
   "source": [
    "frames =[df_consum, df_price]\n",
    "df_consum.index = df_price.index\n",
    "data = pd.concat(frames, axis=1)\n",
    "data.head()"
   ]
  },
  {
   "cell_type": "code",
   "execution_count": 12,
   "id": "32187919",
   "metadata": {},
   "outputs": [],
   "source": [
    "main_data = data.loc[:,~data.columns.duplicated()]"
   ]
  },
  {
   "cell_type": "code",
   "execution_count": 13,
   "id": "9f4ae17b",
   "metadata": {},
   "outputs": [
    {
     "data": {
      "text/html": [
       "<div>\n",
       "<style scoped>\n",
       "    .dataframe tbody tr th:only-of-type {\n",
       "        vertical-align: middle;\n",
       "    }\n",
       "\n",
       "    .dataframe tbody tr th {\n",
       "        vertical-align: top;\n",
       "    }\n",
       "\n",
       "    .dataframe thead th {\n",
       "        text-align: right;\n",
       "    }\n",
       "</style>\n",
       "<table border=\"1\" class=\"dataframe\">\n",
       "  <thead>\n",
       "    <tr style=\"text-align: right;\">\n",
       "      <th></th>\n",
       "      <th>Month</th>\n",
       "      <th>U.S. Product Supplied of Finished Motor Gasoline Thousand Barrels per Day</th>\n",
       "      <th>U.S. Regular All Formulations Retail Gasoline Prices Dollars per Gallon</th>\n",
       "    </tr>\n",
       "  </thead>\n",
       "  <tbody>\n",
       "    <tr>\n",
       "      <th>2</th>\n",
       "      <td>Aug-21</td>\n",
       "      <td>9111</td>\n",
       "      <td>3.158</td>\n",
       "    </tr>\n",
       "    <tr>\n",
       "      <th>3</th>\n",
       "      <td>Jul-21</td>\n",
       "      <td>9313</td>\n",
       "      <td>3.136</td>\n",
       "    </tr>\n",
       "    <tr>\n",
       "      <th>4</th>\n",
       "      <td>Jun-21</td>\n",
       "      <td>9273</td>\n",
       "      <td>3.064</td>\n",
       "    </tr>\n",
       "    <tr>\n",
       "      <th>5</th>\n",
       "      <td>May-21</td>\n",
       "      <td>9137</td>\n",
       "      <td>2.985</td>\n",
       "    </tr>\n",
       "    <tr>\n",
       "      <th>6</th>\n",
       "      <td>Apr-21</td>\n",
       "      <td>8791</td>\n",
       "      <td>2.858</td>\n",
       "    </tr>\n",
       "  </tbody>\n",
       "</table>\n",
       "</div>"
      ],
      "text/plain": [
       "    Month  \\\n",
       "2  Aug-21   \n",
       "3  Jul-21   \n",
       "4  Jun-21   \n",
       "5  May-21   \n",
       "6  Apr-21   \n",
       "\n",
       "   U.S. Product Supplied of Finished Motor Gasoline Thousand Barrels per Day  \\\n",
       "2                                               9111                           \n",
       "3                                               9313                           \n",
       "4                                               9273                           \n",
       "5                                               9137                           \n",
       "6                                               8791                           \n",
       "\n",
       "   U.S. Regular All Formulations Retail Gasoline Prices Dollars per Gallon  \n",
       "2                                              3.158                        \n",
       "3                                              3.136                        \n",
       "4                                              3.064                        \n",
       "5                                              2.985                        \n",
       "6                                              2.858                        "
      ]
     },
     "execution_count": 13,
     "metadata": {},
     "output_type": "execute_result"
    }
   ],
   "source": [
    "main_data.head()"
   ]
  },
  {
   "cell_type": "code",
   "execution_count": 14,
   "id": "9ef20470",
   "metadata": {},
   "outputs": [
    {
     "name": "stderr",
     "output_type": "stream",
     "text": [
      "C:\\Users\\Maryam\\AppData\\Local\\Programs\\Python\\Python39\\lib\\site-packages\\pandas\\core\\frame.py:5034: SettingWithCopyWarning: \n",
      "A value is trying to be set on a copy of a slice from a DataFrame\n",
      "\n",
      "See the caveats in the documentation: https://pandas.pydata.org/pandas-docs/stable/user_guide/indexing.html#returning-a-view-versus-a-copy\n",
      "  return super().rename(\n"
     ]
    }
   ],
   "source": [
    "main_data.rename(columns={\"U.S. Product Supplied of Finished Motor Gasoline Thousand Barrels per Day\": \"Consumption\", \"U.S. Regular All Formulations Retail Gasoline Prices Dollars per Gallon\": \"Price\"}, inplace=True)"
   ]
  },
  {
   "cell_type": "code",
   "execution_count": 15,
   "id": "090e4809",
   "metadata": {},
   "outputs": [
    {
     "data": {
      "text/html": [
       "<div>\n",
       "<style scoped>\n",
       "    .dataframe tbody tr th:only-of-type {\n",
       "        vertical-align: middle;\n",
       "    }\n",
       "\n",
       "    .dataframe tbody tr th {\n",
       "        vertical-align: top;\n",
       "    }\n",
       "\n",
       "    .dataframe thead th {\n",
       "        text-align: right;\n",
       "    }\n",
       "</style>\n",
       "<table border=\"1\" class=\"dataframe\">\n",
       "  <thead>\n",
       "    <tr style=\"text-align: right;\">\n",
       "      <th></th>\n",
       "      <th>Consumption</th>\n",
       "      <th>Price</th>\n",
       "    </tr>\n",
       "  </thead>\n",
       "  <tbody>\n",
       "    <tr>\n",
       "      <th>count</th>\n",
       "      <td>372.000000</td>\n",
       "      <td>370.000000</td>\n",
       "    </tr>\n",
       "    <tr>\n",
       "      <th>mean</th>\n",
       "      <td>8592.819892</td>\n",
       "      <td>2.085281</td>\n",
       "    </tr>\n",
       "    <tr>\n",
       "      <th>std</th>\n",
       "      <td>729.826492</td>\n",
       "      <td>0.880164</td>\n",
       "    </tr>\n",
       "    <tr>\n",
       "      <th>min</th>\n",
       "      <td>5866.000000</td>\n",
       "      <td>0.921000</td>\n",
       "    </tr>\n",
       "    <tr>\n",
       "      <th>25%</th>\n",
       "      <td>8120.750000</td>\n",
       "      <td>1.202500</td>\n",
       "    </tr>\n",
       "    <tr>\n",
       "      <th>50%</th>\n",
       "      <td>8797.500000</td>\n",
       "      <td>2.095000</td>\n",
       "    </tr>\n",
       "    <tr>\n",
       "      <th>75%</th>\n",
       "      <td>9148.000000</td>\n",
       "      <td>2.768250</td>\n",
       "    </tr>\n",
       "    <tr>\n",
       "      <th>max</th>\n",
       "      <td>9834.000000</td>\n",
       "      <td>4.062000</td>\n",
       "    </tr>\n",
       "  </tbody>\n",
       "</table>\n",
       "</div>"
      ],
      "text/plain": [
       "       Consumption       Price\n",
       "count   372.000000  370.000000\n",
       "mean   8592.819892    2.085281\n",
       "std     729.826492    0.880164\n",
       "min    5866.000000    0.921000\n",
       "25%    8120.750000    1.202500\n",
       "50%    8797.500000    2.095000\n",
       "75%    9148.000000    2.768250\n",
       "max    9834.000000    4.062000"
      ]
     },
     "execution_count": 15,
     "metadata": {},
     "output_type": "execute_result"
    }
   ],
   "source": [
    "main_data.describe()"
   ]
  },
  {
   "cell_type": "code",
   "execution_count": 16,
   "id": "fd8aba58",
   "metadata": {},
   "outputs": [
    {
     "data": {
      "text/plain": [
       "(372, 3)"
      ]
     },
     "execution_count": 16,
     "metadata": {},
     "output_type": "execute_result"
    }
   ],
   "source": [
    "main_data.shape"
   ]
  },
  {
   "cell_type": "code",
   "execution_count": 17,
   "id": "2c36d99d",
   "metadata": {},
   "outputs": [
    {
     "data": {
      "text/plain": [
       "Month          0\n",
       "Consumption    0\n",
       "Price          2\n",
       "dtype: int64"
      ]
     },
     "execution_count": 17,
     "metadata": {},
     "output_type": "execute_result"
    }
   ],
   "source": [
    "main_data.isnull().sum()"
   ]
  },
  {
   "cell_type": "code",
   "execution_count": 18,
   "id": "a42507f1",
   "metadata": {},
   "outputs": [
    {
     "name": "stderr",
     "output_type": "stream",
     "text": [
      "C:\\Users\\Maryam\\AppData\\Local\\Programs\\Python\\Python39\\lib\\site-packages\\pandas\\util\\_decorators.py:311: SettingWithCopyWarning: \n",
      "A value is trying to be set on a copy of a slice from a DataFrame\n",
      "\n",
      "See the caveats in the documentation: https://pandas.pydata.org/pandas-docs/stable/user_guide/indexing.html#returning-a-view-versus-a-copy\n",
      "  return func(*args, **kwargs)\n"
     ]
    }
   ],
   "source": [
    "main_data.dropna(inplace=True)"
   ]
  },
  {
   "cell_type": "code",
   "execution_count": 19,
   "id": "316181ac",
   "metadata": {},
   "outputs": [
    {
     "data": {
      "text/plain": [
       "(370, 3)"
      ]
     },
     "execution_count": 19,
     "metadata": {},
     "output_type": "execute_result"
    }
   ],
   "source": [
    "main_data.shape"
   ]
  },
  {
   "cell_type": "code",
   "execution_count": 20,
   "id": "62812e2d",
   "metadata": {},
   "outputs": [
    {
     "data": {
      "text/plain": [
       "Text(0, 0.5, 'Value ($/Gallon)')"
      ]
     },
     "execution_count": 20,
     "metadata": {},
     "output_type": "execute_result"
    },
    {
     "data": {
      "image/png": "[encoded data removed]",
      "text/plain": [
       "<Figure size 720x360 with 1 Axes>"
      ]
     },
     "metadata": {
      "needs_background": "light"
     },
     "output_type": "display_data"
    },
    {
     "data": {
      "image/png": "[encoded data removed]",
      "text/plain": [
       "<Figure size 720x360 with 1 Axes>"
      ]
     },
     "metadata": {
      "needs_background": "light"
     },
     "output_type": "display_data"
    }
   ],
   "source": [
    "#make boxplot\n",
    "plt.figure(figsize=(10, 5))\n",
    "boxplot_cons= main_data.boxplot(column=['Consumption'])\n",
    "plt.title('Boxplot: distribution of the Gasoline Consumption in US',fontsize=14, color='black')\n",
    "plt.ylabel('Thousand Barrels per Day', fontsize=14, color='black')\n",
    "\n",
    "plt.figure(figsize=(10, 5))\n",
    "boxplot_price = main_data.boxplot(column=['Price'])\n",
    "plt.title('Boxplot: distribution of the  Gasoline Price in US',fontsize=14, color='black')\n",
    "plt.ylabel('Value ($/Gallon)', fontsize=14, color='black')"
   ]
  },
  {
   "cell_type": "code",
   "execution_count": 21,
   "id": "ca4c1122",
   "metadata": {},
   "outputs": [
    {
     "data": {
      "text/plain": [
       "Text(0, 0.5, 'Frequency')"
      ]
     },
     "execution_count": 21,
     "metadata": {},
     "output_type": "execute_result"
    },
    {
     "data": {
      "image/png": "[encoded data removed]",
      "text/plain": [
       "<Figure size 720x360 with 1 Axes>"
      ]
     },
     "metadata": {
      "needs_background": "light"
     },
     "output_type": "display_data"
    },
    {
     "data": {
      "image/png": "[encoded data removed]",
      "text/plain": [
       "<Figure size 720x360 with 1 Axes>"
      ]
     },
     "metadata": {
      "needs_background": "light"
     },
     "output_type": "display_data"
    }
   ],
   "source": [
    "# Creating Histogram\n",
    "plt.figure(figsize=(10, 5))\n",
    "plt.hist(x = main_data['Consumption'], bins=16, color='blue', rwidth=0.85)\n",
    "plt.title('Histogram of Consumption',fontsize=14, color='black')\n",
    "plt.xlabel('Consumption', fontsize=14, color='black')\n",
    "plt.ylabel('Frequency', fontsize=14, color='black')\n",
    "\n",
    "\n",
    "\n",
    "plt.figure(figsize=(10, 5))\n",
    "#bins_list = [0, 0.5, 1, 1.5, 2, 2.5, 3, 3.5, 4, 4.5]\n",
    "plt.hist(x = main_data['Price'], bins=8, color='blue', rwidth=0.85)\n",
    "plt.title('Histogram of Price',fontsize=14, color='black')\n",
    "plt.xlabel('Price', fontsize=14, color='black')\n",
    "plt.ylabel('Frequency', fontsize=14, color='black')"
   ]
  },
  {
   "cell_type": "code",
   "execution_count": 22,
   "id": "67686cd9",
   "metadata": {},
   "outputs": [
    {
     "data": {
      "text/plain": [
       "Text(0.5, 1.0, 'eCDF for Consumption using seaborn library ')"
      ]
     },
     "execution_count": 22,
     "metadata": {},
     "output_type": "execute_result"
    },
    {
     "data": {
      "image/png": "[encoded data removed]",
      "text/plain": [
       "<Figure size 432x288 with 1 Axes>"
      ]
     },
     "metadata": {
      "needs_background": "light"
     },
     "output_type": "display_data"
    }
   ],
   "source": [
    "#Import seaborn library and generate ecdf plot\n",
    "import seaborn as sns\n",
    "sns.ecdfplot(x = main_data['Consumption'])\n",
    "plt.title('eCDF for Consumption using seaborn library ',fontsize=10, color='black')"
   ]
  },
  {
   "cell_type": "code",
   "execution_count": 23,
   "id": "4cd53597",
   "metadata": {},
   "outputs": [
    {
     "data": {
      "text/plain": [
       "Text(0.5, 1.0, 'eCDF for Price using seaborn library ')"
      ]
     },
     "execution_count": 23,
     "metadata": {},
     "output_type": "execute_result"
    },
    {
     "data": {
      "image/png": "[encoded data removed]",
      "text/plain": [
       "<Figure size 432x288 with 1 Axes>"
      ]
     },
     "metadata": {
      "needs_background": "light"
     },
     "output_type": "display_data"
    }
   ],
   "source": [
    "sns.ecdfplot(x = main_data['Price'])\n",
    "plt.title('eCDF for Price using seaborn library ',fontsize=10, color='black')"
   ]
  },
  {
   "cell_type": "code",
   "execution_count": 24,
   "id": "98ef622c",
   "metadata": {},
   "outputs": [
    {
     "data": {
      "text/html": [
       "<div>\n",
       "<style scoped>\n",
       "    .dataframe tbody tr th:only-of-type {\n",
       "        vertical-align: middle;\n",
       "    }\n",
       "\n",
       "    .dataframe tbody tr th {\n",
       "        vertical-align: top;\n",
       "    }\n",
       "\n",
       "    .dataframe thead th {\n",
       "        text-align: right;\n",
       "    }\n",
       "</style>\n",
       "<table border=\"1\" class=\"dataframe\">\n",
       "  <thead>\n",
       "    <tr style=\"text-align: right;\">\n",
       "      <th></th>\n",
       "      <th>Month</th>\n",
       "      <th>Consumption</th>\n",
       "      <th>Price</th>\n",
       "    </tr>\n",
       "  </thead>\n",
       "  <tbody>\n",
       "    <tr>\n",
       "      <th>2</th>\n",
       "      <td>Aug-21</td>\n",
       "      <td>9111</td>\n",
       "      <td>3.158</td>\n",
       "    </tr>\n",
       "    <tr>\n",
       "      <th>3</th>\n",
       "      <td>Jul-21</td>\n",
       "      <td>9313</td>\n",
       "      <td>3.136</td>\n",
       "    </tr>\n",
       "    <tr>\n",
       "      <th>4</th>\n",
       "      <td>Jun-21</td>\n",
       "      <td>9273</td>\n",
       "      <td>3.064</td>\n",
       "    </tr>\n",
       "    <tr>\n",
       "      <th>5</th>\n",
       "      <td>May-21</td>\n",
       "      <td>9137</td>\n",
       "      <td>2.985</td>\n",
       "    </tr>\n",
       "    <tr>\n",
       "      <th>6</th>\n",
       "      <td>Apr-21</td>\n",
       "      <td>8791</td>\n",
       "      <td>2.858</td>\n",
       "    </tr>\n",
       "  </tbody>\n",
       "</table>\n",
       "</div>"
      ],
      "text/plain": [
       "    Month  Consumption  Price\n",
       "2  Aug-21         9111  3.158\n",
       "3  Jul-21         9313  3.136\n",
       "4  Jun-21         9273  3.064\n",
       "5  May-21         9137  2.985\n",
       "6  Apr-21         8791  2.858"
      ]
     },
     "execution_count": 24,
     "metadata": {},
     "output_type": "execute_result"
    }
   ],
   "source": [
    "main_data.head()"
   ]
  },
  {
   "cell_type": "code",
   "execution_count": 25,
   "id": "d721c004",
   "metadata": {},
   "outputs": [
    {
     "name": "stderr",
     "output_type": "stream",
     "text": [
      "C:\\Users\\Maryam\\AppData\\Local\\Temp/ipykernel_12840/3304071028.py:2: SettingWithCopyWarning: \n",
      "A value is trying to be set on a copy of a slice from a DataFrame.\n",
      "Try using .loc[row_indexer,col_indexer] = value instead\n",
      "\n",
      "See the caveats in the documentation: https://pandas.pydata.org/pandas-docs/stable/user_guide/indexing.html#returning-a-view-versus-a-copy\n",
      "  main_data['Month-Year']=[datetime.datetime.strptime(x,'%b-%y').strftime('%m-%Y') for x in main_data['Month']]\n"
     ]
    }
   ],
   "source": [
    "import datetime\n",
    "main_data['Month-Year']=[datetime.datetime.strptime(x,'%b-%y').strftime('%m-%Y') for x in main_data['Month']]\n"
   ]
  },
  {
   "cell_type": "code",
   "execution_count": 30,
   "id": "670b7c58",
   "metadata": {},
   "outputs": [
    {
     "name": "stderr",
     "output_type": "stream",
     "text": [
      "C:\\Users\\Maryam\\AppData\\Local\\Temp/ipykernel_12840/3338716879.py:1: SettingWithCopyWarning: \n",
      "A value is trying to be set on a copy of a slice from a DataFrame.\n",
      "Try using .loc[row_indexer,col_indexer] = value instead\n",
      "\n",
      "See the caveats in the documentation: https://pandas.pydata.org/pandas-docs/stable/user_guide/indexing.html#returning-a-view-versus-a-copy\n",
      "  main_data['Year']=''\n"
     ]
    }
   ],
   "source": [
    "main_data['Year']=''\n",
    "for i in range(len( main_data)):\n",
    "    main_data['Year'].values[i]= pd.to_numeric(main_data['Month-Year'].values[i][3:7])"
   ]
  },
  {
   "cell_type": "code",
   "execution_count": 31,
   "id": "822caf5e",
   "metadata": {},
   "outputs": [
    {
     "data": {
      "text/html": [
       "<div>\n",
       "<style scoped>\n",
       "    .dataframe tbody tr th:only-of-type {\n",
       "        vertical-align: middle;\n",
       "    }\n",
       "\n",
       "    .dataframe tbody tr th {\n",
       "        vertical-align: top;\n",
       "    }\n",
       "\n",
       "    .dataframe thead th {\n",
       "        text-align: right;\n",
       "    }\n",
       "</style>\n",
       "<table border=\"1\" class=\"dataframe\">\n",
       "  <thead>\n",
       "    <tr style=\"text-align: right;\">\n",
       "      <th></th>\n",
       "      <th>Month</th>\n",
       "      <th>Consumption</th>\n",
       "      <th>Price</th>\n",
       "      <th>Month-Year</th>\n",
       "      <th>Year</th>\n",
       "    </tr>\n",
       "  </thead>\n",
       "  <tbody>\n",
       "    <tr>\n",
       "      <th>2</th>\n",
       "      <td>Aug-21</td>\n",
       "      <td>9111</td>\n",
       "      <td>3.158</td>\n",
       "      <td>08-2021</td>\n",
       "      <td>2021</td>\n",
       "    </tr>\n",
       "    <tr>\n",
       "      <th>3</th>\n",
       "      <td>Jul-21</td>\n",
       "      <td>9313</td>\n",
       "      <td>3.136</td>\n",
       "      <td>07-2021</td>\n",
       "      <td>2021</td>\n",
       "    </tr>\n",
       "    <tr>\n",
       "      <th>4</th>\n",
       "      <td>Jun-21</td>\n",
       "      <td>9273</td>\n",
       "      <td>3.064</td>\n",
       "      <td>06-2021</td>\n",
       "      <td>2021</td>\n",
       "    </tr>\n",
       "    <tr>\n",
       "      <th>5</th>\n",
       "      <td>May-21</td>\n",
       "      <td>9137</td>\n",
       "      <td>2.985</td>\n",
       "      <td>05-2021</td>\n",
       "      <td>2021</td>\n",
       "    </tr>\n",
       "    <tr>\n",
       "      <th>6</th>\n",
       "      <td>Apr-21</td>\n",
       "      <td>8791</td>\n",
       "      <td>2.858</td>\n",
       "      <td>04-2021</td>\n",
       "      <td>2021</td>\n",
       "    </tr>\n",
       "    <tr>\n",
       "      <th>7</th>\n",
       "      <td>Mar-21</td>\n",
       "      <td>8577</td>\n",
       "      <td>2.810</td>\n",
       "      <td>03-2021</td>\n",
       "      <td>2021</td>\n",
       "    </tr>\n",
       "    <tr>\n",
       "      <th>8</th>\n",
       "      <td>Feb-21</td>\n",
       "      <td>7744</td>\n",
       "      <td>2.501</td>\n",
       "      <td>02-2021</td>\n",
       "      <td>2021</td>\n",
       "    </tr>\n",
       "    <tr>\n",
       "      <th>9</th>\n",
       "      <td>Jan-21</td>\n",
       "      <td>7666</td>\n",
       "      <td>2.334</td>\n",
       "      <td>01-2021</td>\n",
       "      <td>2021</td>\n",
       "    </tr>\n",
       "    <tr>\n",
       "      <th>10</th>\n",
       "      <td>Dec-20</td>\n",
       "      <td>7855</td>\n",
       "      <td>2.195</td>\n",
       "      <td>12-2020</td>\n",
       "      <td>2020</td>\n",
       "    </tr>\n",
       "    <tr>\n",
       "      <th>11</th>\n",
       "      <td>Nov-20</td>\n",
       "      <td>8001</td>\n",
       "      <td>2.108</td>\n",
       "      <td>11-2020</td>\n",
       "      <td>2020</td>\n",
       "    </tr>\n",
       "    <tr>\n",
       "      <th>12</th>\n",
       "      <td>Oct-20</td>\n",
       "      <td>8316</td>\n",
       "      <td>2.158</td>\n",
       "      <td>10-2020</td>\n",
       "      <td>2020</td>\n",
       "    </tr>\n",
       "    <tr>\n",
       "      <th>13</th>\n",
       "      <td>Sep-20</td>\n",
       "      <td>8541</td>\n",
       "      <td>2.183</td>\n",
       "      <td>09-2020</td>\n",
       "      <td>2020</td>\n",
       "    </tr>\n",
       "    <tr>\n",
       "      <th>14</th>\n",
       "      <td>Aug-20</td>\n",
       "      <td>8524</td>\n",
       "      <td>2.182</td>\n",
       "      <td>08-2020</td>\n",
       "      <td>2020</td>\n",
       "    </tr>\n",
       "    <tr>\n",
       "      <th>15</th>\n",
       "      <td>Jul-20</td>\n",
       "      <td>8460</td>\n",
       "      <td>2.183</td>\n",
       "      <td>07-2020</td>\n",
       "      <td>2020</td>\n",
       "    </tr>\n",
       "    <tr>\n",
       "      <th>16</th>\n",
       "      <td>Jun-20</td>\n",
       "      <td>8292</td>\n",
       "      <td>2.082</td>\n",
       "      <td>06-2020</td>\n",
       "      <td>2020</td>\n",
       "    </tr>\n",
       "    <tr>\n",
       "      <th>17</th>\n",
       "      <td>May-20</td>\n",
       "      <td>7198</td>\n",
       "      <td>1.870</td>\n",
       "      <td>05-2020</td>\n",
       "      <td>2020</td>\n",
       "    </tr>\n",
       "    <tr>\n",
       "      <th>18</th>\n",
       "      <td>Apr-20</td>\n",
       "      <td>5866</td>\n",
       "      <td>1.841</td>\n",
       "      <td>04-2020</td>\n",
       "      <td>2020</td>\n",
       "    </tr>\n",
       "    <tr>\n",
       "      <th>19</th>\n",
       "      <td>Mar-20</td>\n",
       "      <td>7779</td>\n",
       "      <td>2.234</td>\n",
       "      <td>03-2020</td>\n",
       "      <td>2020</td>\n",
       "    </tr>\n",
       "    <tr>\n",
       "      <th>20</th>\n",
       "      <td>Feb-20</td>\n",
       "      <td>9050</td>\n",
       "      <td>2.442</td>\n",
       "      <td>02-2020</td>\n",
       "      <td>2020</td>\n",
       "    </tr>\n",
       "    <tr>\n",
       "      <th>21</th>\n",
       "      <td>Jan-20</td>\n",
       "      <td>8724</td>\n",
       "      <td>2.548</td>\n",
       "      <td>01-2020</td>\n",
       "      <td>2020</td>\n",
       "    </tr>\n",
       "    <tr>\n",
       "      <th>22</th>\n",
       "      <td>Dec-19</td>\n",
       "      <td>8971</td>\n",
       "      <td>2.555</td>\n",
       "      <td>12-2019</td>\n",
       "      <td>2019</td>\n",
       "    </tr>\n",
       "    <tr>\n",
       "      <th>23</th>\n",
       "      <td>Nov-19</td>\n",
       "      <td>9209</td>\n",
       "      <td>2.598</td>\n",
       "      <td>11-2019</td>\n",
       "      <td>2019</td>\n",
       "    </tr>\n",
       "    <tr>\n",
       "      <th>24</th>\n",
       "      <td>Oct-19</td>\n",
       "      <td>9308</td>\n",
       "      <td>2.627</td>\n",
       "      <td>10-2019</td>\n",
       "      <td>2019</td>\n",
       "    </tr>\n",
       "    <tr>\n",
       "      <th>25</th>\n",
       "      <td>Sep-19</td>\n",
       "      <td>9198</td>\n",
       "      <td>2.592</td>\n",
       "      <td>09-2019</td>\n",
       "      <td>2019</td>\n",
       "    </tr>\n",
       "    <tr>\n",
       "      <th>26</th>\n",
       "      <td>Aug-19</td>\n",
       "      <td>9834</td>\n",
       "      <td>2.621</td>\n",
       "      <td>08-2019</td>\n",
       "      <td>2019</td>\n",
       "    </tr>\n",
       "    <tr>\n",
       "      <th>27</th>\n",
       "      <td>Jul-19</td>\n",
       "      <td>9533</td>\n",
       "      <td>2.740</td>\n",
       "      <td>07-2019</td>\n",
       "      <td>2019</td>\n",
       "    </tr>\n",
       "    <tr>\n",
       "      <th>28</th>\n",
       "      <td>Jun-19</td>\n",
       "      <td>9703</td>\n",
       "      <td>2.716</td>\n",
       "      <td>06-2019</td>\n",
       "      <td>2019</td>\n",
       "    </tr>\n",
       "    <tr>\n",
       "      <th>29</th>\n",
       "      <td>May-19</td>\n",
       "      <td>9497</td>\n",
       "      <td>2.859</td>\n",
       "      <td>05-2019</td>\n",
       "      <td>2019</td>\n",
       "    </tr>\n",
       "    <tr>\n",
       "      <th>30</th>\n",
       "      <td>Apr-19</td>\n",
       "      <td>9411</td>\n",
       "      <td>2.798</td>\n",
       "      <td>04-2019</td>\n",
       "      <td>2019</td>\n",
       "    </tr>\n",
       "    <tr>\n",
       "      <th>31</th>\n",
       "      <td>Mar-19</td>\n",
       "      <td>9184</td>\n",
       "      <td>2.516</td>\n",
       "      <td>03-2019</td>\n",
       "      <td>2019</td>\n",
       "    </tr>\n",
       "  </tbody>\n",
       "</table>\n",
       "</div>"
      ],
      "text/plain": [
       "     Month  Consumption  Price Month-Year  Year\n",
       "2   Aug-21         9111  3.158    08-2021  2021\n",
       "3   Jul-21         9313  3.136    07-2021  2021\n",
       "4   Jun-21         9273  3.064    06-2021  2021\n",
       "5   May-21         9137  2.985    05-2021  2021\n",
       "6   Apr-21         8791  2.858    04-2021  2021\n",
       "7   Mar-21         8577  2.810    03-2021  2021\n",
       "8   Feb-21         7744  2.501    02-2021  2021\n",
       "9   Jan-21         7666  2.334    01-2021  2021\n",
       "10  Dec-20         7855  2.195    12-2020  2020\n",
       "11  Nov-20         8001  2.108    11-2020  2020\n",
       "12  Oct-20         8316  2.158    10-2020  2020\n",
       "13  Sep-20         8541  2.183    09-2020  2020\n",
       "14  Aug-20         8524  2.182    08-2020  2020\n",
       "15  Jul-20         8460  2.183    07-2020  2020\n",
       "16  Jun-20         8292  2.082    06-2020  2020\n",
       "17  May-20         7198  1.870    05-2020  2020\n",
       "18  Apr-20         5866  1.841    04-2020  2020\n",
       "19  Mar-20         7779  2.234    03-2020  2020\n",
       "20  Feb-20         9050  2.442    02-2020  2020\n",
       "21  Jan-20         8724  2.548    01-2020  2020\n",
       "22  Dec-19         8971  2.555    12-2019  2019\n",
       "23  Nov-19         9209  2.598    11-2019  2019\n",
       "24  Oct-19         9308  2.627    10-2019  2019\n",
       "25  Sep-19         9198  2.592    09-2019  2019\n",
       "26  Aug-19         9834  2.621    08-2019  2019\n",
       "27  Jul-19         9533  2.740    07-2019  2019\n",
       "28  Jun-19         9703  2.716    06-2019  2019\n",
       "29  May-19         9497  2.859    05-2019  2019\n",
       "30  Apr-19         9411  2.798    04-2019  2019\n",
       "31  Mar-19         9184  2.516    03-2019  2019"
      ]
     },
     "execution_count": 31,
     "metadata": {},
     "output_type": "execute_result"
    }
   ],
   "source": [
    "main_data.head(30)"
   ]
  },
  {
   "cell_type": "code",
   "execution_count": 32,
   "id": "072f90e0",
   "metadata": {},
   "outputs": [
    {
     "data": {
      "image/png": "[encoded data removed]",
      "text/plain": [
       "<Figure size 1440x720 with 1 Axes>"
      ]
     },
     "metadata": {
      "needs_background": "light"
     },
     "output_type": "display_data"
    }
   ],
   "source": [
    "plt.figure(figsize=(20, 10))\n",
    "plt.plot('Year', 'Consumption', data= main_data, linewidth=2, linestyle='--', color = 'red')\n",
    "plt.title('Gasoline Consumption Rate IN US',fontsize=14, color='black')\n",
    "plt.xlabel('Year', fontsize=14, color='black')\n",
    "plt.ylabel('Consumption', fontsize=14, color='black')\n",
    "#year = arange(2000,2020)\n",
    "#value = arange(2000,2020)\n",
    "#plt.xticks(year, value)\n",
    "plt.show()"
   ]
  },
  {
   "cell_type": "code",
   "execution_count": 33,
   "id": "806ff108",
   "metadata": {},
   "outputs": [
    {
     "data": {
      "image/png": "[encoded data removed]",
      "text/plain": [
       "<Figure size 1440x720 with 1 Axes>"
      ]
     },
     "metadata": {
      "needs_background": "light"
     },
     "output_type": "display_data"
    }
   ],
   "source": [
    "plt.figure(figsize=(20, 10))\n",
    "plt.plot('Year', 'Price', data= main_data, linewidth=2, linestyle='--', color = 'blue')\n",
    "plt.title('Gasoline Price Rate IN US',fontsize=14, color='black')\n",
    "plt.xlabel('Year', fontsize=14, color='black')\n",
    "plt.ylabel('Price', fontsize=14, color='black')\n",
    "plt.show()"
   ]
  },
  {
   "cell_type": "code",
   "execution_count": 34,
   "id": "a9566c5d",
   "metadata": {},
   "outputs": [
    {
     "data": {
      "text/html": [
       "<div>\n",
       "<style scoped>\n",
       "    .dataframe tbody tr th:only-of-type {\n",
       "        vertical-align: middle;\n",
       "    }\n",
       "\n",
       "    .dataframe tbody tr th {\n",
       "        vertical-align: top;\n",
       "    }\n",
       "\n",
       "    .dataframe thead th {\n",
       "        text-align: right;\n",
       "    }\n",
       "</style>\n",
       "<table border=\"1\" class=\"dataframe\">\n",
       "  <thead>\n",
       "    <tr style=\"text-align: right;\">\n",
       "      <th></th>\n",
       "      <th>Month</th>\n",
       "      <th>Consumption</th>\n",
       "      <th>Price</th>\n",
       "      <th>Month-Year</th>\n",
       "      <th>Year</th>\n",
       "    </tr>\n",
       "  </thead>\n",
       "  <tbody>\n",
       "    <tr>\n",
       "      <th>26</th>\n",
       "      <td>Aug-19</td>\n",
       "      <td>9834</td>\n",
       "      <td>2.621</td>\n",
       "      <td>08-2019</td>\n",
       "      <td>2019</td>\n",
       "    </tr>\n",
       "    <tr>\n",
       "      <th>28</th>\n",
       "      <td>Jun-19</td>\n",
       "      <td>9703</td>\n",
       "      <td>2.716</td>\n",
       "      <td>06-2019</td>\n",
       "      <td>2019</td>\n",
       "    </tr>\n",
       "    <tr>\n",
       "      <th>38</th>\n",
       "      <td>Aug-18</td>\n",
       "      <td>9778</td>\n",
       "      <td>2.836</td>\n",
       "      <td>08-2018</td>\n",
       "      <td>2018</td>\n",
       "    </tr>\n",
       "    <tr>\n",
       "      <th>40</th>\n",
       "      <td>Jun-18</td>\n",
       "      <td>9797</td>\n",
       "      <td>2.891</td>\n",
       "      <td>06-2018</td>\n",
       "      <td>2018</td>\n",
       "    </tr>\n",
       "    <tr>\n",
       "      <th>50</th>\n",
       "      <td>Aug-17</td>\n",
       "      <td>9752</td>\n",
       "      <td>2.380</td>\n",
       "      <td>08-2017</td>\n",
       "      <td>2017</td>\n",
       "    </tr>\n",
       "    <tr>\n",
       "      <th>52</th>\n",
       "      <td>Jun-17</td>\n",
       "      <td>9772</td>\n",
       "      <td>2.347</td>\n",
       "      <td>06-2017</td>\n",
       "      <td>2017</td>\n",
       "    </tr>\n",
       "  </tbody>\n",
       "</table>\n",
       "</div>"
      ],
      "text/plain": [
       "     Month  Consumption  Price Month-Year  Year\n",
       "26  Aug-19         9834  2.621    08-2019  2019\n",
       "28  Jun-19         9703  2.716    06-2019  2019\n",
       "38  Aug-18         9778  2.836    08-2018  2018\n",
       "40  Jun-18         9797  2.891    06-2018  2018\n",
       "50  Aug-17         9752  2.380    08-2017  2017\n",
       "52  Jun-17         9772  2.347    06-2017  2017"
      ]
     },
     "execution_count": 34,
     "metadata": {},
     "output_type": "execute_result"
    }
   ],
   "source": [
    "# Highest Consumption Date\n",
    "high_consumption = main_data[main_data['Consumption']>9700] \n",
    "high_consumption"
   ]
  },
  {
   "cell_type": "code",
   "execution_count": 35,
   "id": "96a7f86f",
   "metadata": {},
   "outputs": [
    {
     "data": {
      "text/html": [
       "<div>\n",
       "<style scoped>\n",
       "    .dataframe tbody tr th:only-of-type {\n",
       "        vertical-align: middle;\n",
       "    }\n",
       "\n",
       "    .dataframe tbody tr th {\n",
       "        vertical-align: top;\n",
       "    }\n",
       "\n",
       "    .dataframe thead th {\n",
       "        text-align: right;\n",
       "    }\n",
       "</style>\n",
       "<table border=\"1\" class=\"dataframe\">\n",
       "  <thead>\n",
       "    <tr style=\"text-align: right;\">\n",
       "      <th></th>\n",
       "      <th>Month</th>\n",
       "      <th>Consumption</th>\n",
       "      <th>Price</th>\n",
       "      <th>Month-Year</th>\n",
       "      <th>Year</th>\n",
       "    </tr>\n",
       "  </thead>\n",
       "  <tbody>\n",
       "    <tr>\n",
       "      <th>114</th>\n",
       "      <td>Apr-12</td>\n",
       "      <td>8741</td>\n",
       "      <td>3.900</td>\n",
       "      <td>04-2012</td>\n",
       "      <td>2012</td>\n",
       "    </tr>\n",
       "    <tr>\n",
       "      <th>115</th>\n",
       "      <td>Mar-12</td>\n",
       "      <td>8582</td>\n",
       "      <td>3.852</td>\n",
       "      <td>03-2012</td>\n",
       "      <td>2012</td>\n",
       "    </tr>\n",
       "    <tr>\n",
       "      <th>125</th>\n",
       "      <td>May-11</td>\n",
       "      <td>8817</td>\n",
       "      <td>3.906</td>\n",
       "      <td>05-2011</td>\n",
       "      <td>2011</td>\n",
       "    </tr>\n",
       "    <tr>\n",
       "      <th>159</th>\n",
       "      <td>Jul-08</td>\n",
       "      <td>9150</td>\n",
       "      <td>4.062</td>\n",
       "      <td>07-2008</td>\n",
       "      <td>2008</td>\n",
       "    </tr>\n",
       "    <tr>\n",
       "      <th>160</th>\n",
       "      <td>Jun-08</td>\n",
       "      <td>9110</td>\n",
       "      <td>4.054</td>\n",
       "      <td>06-2008</td>\n",
       "      <td>2008</td>\n",
       "    </tr>\n",
       "  </tbody>\n",
       "</table>\n",
       "</div>"
      ],
      "text/plain": [
       "      Month  Consumption  Price Month-Year  Year\n",
       "114  Apr-12         8741  3.900    04-2012  2012\n",
       "115  Mar-12         8582  3.852    03-2012  2012\n",
       "125  May-11         8817  3.906    05-2011  2011\n",
       "159  Jul-08         9150  4.062    07-2008  2008\n",
       "160  Jun-08         9110  4.054    06-2008  2008"
      ]
     },
     "execution_count": 35,
     "metadata": {},
     "output_type": "execute_result"
    }
   ],
   "source": [
    "# Highest Price Date\n",
    "high_price = main_data[main_data['Price']>3.85] \n",
    "high_price"
   ]
  },
  {
   "cell_type": "code",
   "execution_count": 36,
   "id": "dadf86b5",
   "metadata": {},
   "outputs": [
    {
     "data": {
      "text/html": [
       "<div>\n",
       "<style scoped>\n",
       "    .dataframe tbody tr th:only-of-type {\n",
       "        vertical-align: middle;\n",
       "    }\n",
       "\n",
       "    .dataframe tbody tr th {\n",
       "        vertical-align: top;\n",
       "    }\n",
       "\n",
       "    .dataframe thead th {\n",
       "        text-align: right;\n",
       "    }\n",
       "</style>\n",
       "<table border=\"1\" class=\"dataframe\">\n",
       "  <thead>\n",
       "    <tr style=\"text-align: right;\">\n",
       "      <th></th>\n",
       "      <th>Month</th>\n",
       "      <th>Consumption</th>\n",
       "      <th>Price</th>\n",
       "      <th>Month-Year</th>\n",
       "      <th>Year</th>\n",
       "    </tr>\n",
       "  </thead>\n",
       "  <tbody>\n",
       "    <tr>\n",
       "      <th>2</th>\n",
       "      <td>Aug-21</td>\n",
       "      <td>9111</td>\n",
       "      <td>3.158</td>\n",
       "      <td>08-2021</td>\n",
       "      <td>2021</td>\n",
       "    </tr>\n",
       "    <tr>\n",
       "      <th>3</th>\n",
       "      <td>Jul-21</td>\n",
       "      <td>9313</td>\n",
       "      <td>3.136</td>\n",
       "      <td>07-2021</td>\n",
       "      <td>2021</td>\n",
       "    </tr>\n",
       "    <tr>\n",
       "      <th>4</th>\n",
       "      <td>Jun-21</td>\n",
       "      <td>9273</td>\n",
       "      <td>3.064</td>\n",
       "      <td>06-2021</td>\n",
       "      <td>2021</td>\n",
       "    </tr>\n",
       "    <tr>\n",
       "      <th>5</th>\n",
       "      <td>May-21</td>\n",
       "      <td>9137</td>\n",
       "      <td>2.985</td>\n",
       "      <td>05-2021</td>\n",
       "      <td>2021</td>\n",
       "    </tr>\n",
       "    <tr>\n",
       "      <th>6</th>\n",
       "      <td>Apr-21</td>\n",
       "      <td>8791</td>\n",
       "      <td>2.858</td>\n",
       "      <td>04-2021</td>\n",
       "      <td>2021</td>\n",
       "    </tr>\n",
       "  </tbody>\n",
       "</table>\n",
       "</div>"
      ],
      "text/plain": [
       "    Month  Consumption  Price Month-Year  Year\n",
       "2  Aug-21         9111  3.158    08-2021  2021\n",
       "3  Jul-21         9313  3.136    07-2021  2021\n",
       "4  Jun-21         9273  3.064    06-2021  2021\n",
       "5  May-21         9137  2.985    05-2021  2021\n",
       "6  Apr-21         8791  2.858    04-2021  2021"
      ]
     },
     "execution_count": 36,
     "metadata": {},
     "output_type": "execute_result"
    }
   ],
   "source": [
    "main_data.head()"
   ]
  },
  {
   "cell_type": "code",
   "execution_count": 37,
   "id": "2dbf1121",
   "metadata": {},
   "outputs": [
    {
     "data": {
      "text/html": [
       "<div>\n",
       "<style scoped>\n",
       "    .dataframe tbody tr th:only-of-type {\n",
       "        vertical-align: middle;\n",
       "    }\n",
       "\n",
       "    .dataframe tbody tr th {\n",
       "        vertical-align: top;\n",
       "    }\n",
       "\n",
       "    .dataframe thead th {\n",
       "        text-align: right;\n",
       "    }\n",
       "</style>\n",
       "<table border=\"1\" class=\"dataframe\">\n",
       "  <thead>\n",
       "    <tr style=\"text-align: right;\">\n",
       "      <th></th>\n",
       "      <th>Month</th>\n",
       "      <th>Consumption</th>\n",
       "      <th>Price</th>\n",
       "      <th>Month-Year</th>\n",
       "      <th>Year</th>\n",
       "    </tr>\n",
       "  </thead>\n",
       "  <tbody>\n",
       "    <tr>\n",
       "      <th>2</th>\n",
       "      <td>Aug-21</td>\n",
       "      <td>9111</td>\n",
       "      <td>3.158</td>\n",
       "      <td>08-2021</td>\n",
       "      <td>2021</td>\n",
       "    </tr>\n",
       "    <tr>\n",
       "      <th>3</th>\n",
       "      <td>Jul-21</td>\n",
       "      <td>9313</td>\n",
       "      <td>3.136</td>\n",
       "      <td>07-2021</td>\n",
       "      <td>2021</td>\n",
       "    </tr>\n",
       "    <tr>\n",
       "      <th>4</th>\n",
       "      <td>Jun-21</td>\n",
       "      <td>9273</td>\n",
       "      <td>3.064</td>\n",
       "      <td>06-2021</td>\n",
       "      <td>2021</td>\n",
       "    </tr>\n",
       "    <tr>\n",
       "      <th>5</th>\n",
       "      <td>May-21</td>\n",
       "      <td>9137</td>\n",
       "      <td>2.985</td>\n",
       "      <td>05-2021</td>\n",
       "      <td>2021</td>\n",
       "    </tr>\n",
       "    <tr>\n",
       "      <th>6</th>\n",
       "      <td>Apr-21</td>\n",
       "      <td>8791</td>\n",
       "      <td>2.858</td>\n",
       "      <td>04-2021</td>\n",
       "      <td>2021</td>\n",
       "    </tr>\n",
       "    <tr>\n",
       "      <th>...</th>\n",
       "      <td>...</td>\n",
       "      <td>...</td>\n",
       "      <td>...</td>\n",
       "      <td>...</td>\n",
       "      <td>...</td>\n",
       "    </tr>\n",
       "    <tr>\n",
       "      <th>367</th>\n",
       "      <td>Mar-91</td>\n",
       "      <td>7017</td>\n",
       "      <td>1.040</td>\n",
       "      <td>03-1991</td>\n",
       "      <td>1991</td>\n",
       "    </tr>\n",
       "    <tr>\n",
       "      <th>368</th>\n",
       "      <td>Feb-91</td>\n",
       "      <td>6838</td>\n",
       "      <td>1.094</td>\n",
       "      <td>02-1991</td>\n",
       "      <td>1991</td>\n",
       "    </tr>\n",
       "    <tr>\n",
       "      <th>371</th>\n",
       "      <td>Nov-90</td>\n",
       "      <td>7241</td>\n",
       "      <td>1.324</td>\n",
       "      <td>11-1990</td>\n",
       "      <td>1990</td>\n",
       "    </tr>\n",
       "    <tr>\n",
       "      <th>372</th>\n",
       "      <td>Oct-90</td>\n",
       "      <td>7226</td>\n",
       "      <td>1.335</td>\n",
       "      <td>10-1990</td>\n",
       "      <td>1990</td>\n",
       "    </tr>\n",
       "    <tr>\n",
       "      <th>373</th>\n",
       "      <td>Sep-90</td>\n",
       "      <td>6914</td>\n",
       "      <td>1.258</td>\n",
       "      <td>09-1990</td>\n",
       "      <td>1990</td>\n",
       "    </tr>\n",
       "  </tbody>\n",
       "</table>\n",
       "<p>370 rows × 5 columns</p>\n",
       "</div>"
      ],
      "text/plain": [
       "      Month  Consumption  Price Month-Year  Year\n",
       "2    Aug-21         9111  3.158    08-2021  2021\n",
       "3    Jul-21         9313  3.136    07-2021  2021\n",
       "4    Jun-21         9273  3.064    06-2021  2021\n",
       "5    May-21         9137  2.985    05-2021  2021\n",
       "6    Apr-21         8791  2.858    04-2021  2021\n",
       "..      ...          ...    ...        ...   ...\n",
       "367  Mar-91         7017  1.040    03-1991  1991\n",
       "368  Feb-91         6838  1.094    02-1991  1991\n",
       "371  Nov-90         7241  1.324    11-1990  1990\n",
       "372  Oct-90         7226  1.335    10-1990  1990\n",
       "373  Sep-90         6914  1.258    09-1990  1990\n",
       "\n",
       "[370 rows x 5 columns]"
      ]
     },
     "execution_count": 37,
     "metadata": {},
     "output_type": "execute_result"
    }
   ],
   "source": [
    "main_data[main_data['Consumption']>4] "
   ]
  },
  {
   "cell_type": "code",
   "execution_count": 38,
   "id": "4d37cba7",
   "metadata": {},
   "outputs": [
    {
     "name": "stderr",
     "output_type": "stream",
     "text": [
      "C:\\Users\\Maryam\\AppData\\Local\\Programs\\Python\\Python39\\lib\\site-packages\\pandas\\core\\indexing.py:1817: SettingWithCopyWarning: \n",
      "A value is trying to be set on a copy of a slice from a DataFrame.\n",
      "Try using .loc[row_indexer,col_indexer] = value instead\n",
      "\n",
      "See the caveats in the documentation: https://pandas.pydata.org/pandas-docs/stable/user_guide/indexing.html#returning-a-view-versus-a-copy\n",
      "  self._setitem_single_column(loc, value, pi)\n"
     ]
    }
   ],
   "source": [
    "main_data.loc[main_data['Month'].str.contains('21', case=False)] = 21"
   ]
  },
  {
   "cell_type": "code",
   "execution_count": 190,
   "id": "6eac6d4a",
   "metadata": {},
   "outputs": [
    {
     "data": {
      "text/html": [
       "<div>\n",
       "<style scoped>\n",
       "    .dataframe tbody tr th:only-of-type {\n",
       "        vertical-align: middle;\n",
       "    }\n",
       "\n",
       "    .dataframe tbody tr th {\n",
       "        vertical-align: top;\n",
       "    }\n",
       "\n",
       "    .dataframe thead th {\n",
       "        text-align: right;\n",
       "    }\n",
       "</style>\n",
       "<table border=\"1\" class=\"dataframe\">\n",
       "  <thead>\n",
       "    <tr style=\"text-align: right;\">\n",
       "      <th></th>\n",
       "      <th>Month</th>\n",
       "      <th>Consumption</th>\n",
       "      <th>Price</th>\n",
       "    </tr>\n",
       "  </thead>\n",
       "  <tbody>\n",
       "    <tr>\n",
       "      <th>2</th>\n",
       "      <td>21</td>\n",
       "      <td>21</td>\n",
       "      <td>21.000</td>\n",
       "    </tr>\n",
       "    <tr>\n",
       "      <th>3</th>\n",
       "      <td>21</td>\n",
       "      <td>21</td>\n",
       "      <td>21.000</td>\n",
       "    </tr>\n",
       "    <tr>\n",
       "      <th>4</th>\n",
       "      <td>21</td>\n",
       "      <td>21</td>\n",
       "      <td>21.000</td>\n",
       "    </tr>\n",
       "    <tr>\n",
       "      <th>5</th>\n",
       "      <td>21</td>\n",
       "      <td>21</td>\n",
       "      <td>21.000</td>\n",
       "    </tr>\n",
       "    <tr>\n",
       "      <th>6</th>\n",
       "      <td>21</td>\n",
       "      <td>21</td>\n",
       "      <td>21.000</td>\n",
       "    </tr>\n",
       "    <tr>\n",
       "      <th>...</th>\n",
       "      <td>...</td>\n",
       "      <td>...</td>\n",
       "      <td>...</td>\n",
       "    </tr>\n",
       "    <tr>\n",
       "      <th>367</th>\n",
       "      <td>Mar-91</td>\n",
       "      <td>7017</td>\n",
       "      <td>1.040</td>\n",
       "    </tr>\n",
       "    <tr>\n",
       "      <th>368</th>\n",
       "      <td>Feb-91</td>\n",
       "      <td>6838</td>\n",
       "      <td>1.094</td>\n",
       "    </tr>\n",
       "    <tr>\n",
       "      <th>371</th>\n",
       "      <td>Nov-90</td>\n",
       "      <td>7241</td>\n",
       "      <td>1.324</td>\n",
       "    </tr>\n",
       "    <tr>\n",
       "      <th>372</th>\n",
       "      <td>Oct-90</td>\n",
       "      <td>7226</td>\n",
       "      <td>1.335</td>\n",
       "    </tr>\n",
       "    <tr>\n",
       "      <th>373</th>\n",
       "      <td>Sep-90</td>\n",
       "      <td>6914</td>\n",
       "      <td>1.258</td>\n",
       "    </tr>\n",
       "  </tbody>\n",
       "</table>\n",
       "<p>370 rows × 3 columns</p>\n",
       "</div>"
      ],
      "text/plain": [
       "      Month  Consumption   Price\n",
       "2        21           21  21.000\n",
       "3        21           21  21.000\n",
       "4        21           21  21.000\n",
       "5        21           21  21.000\n",
       "6        21           21  21.000\n",
       "..      ...          ...     ...\n",
       "367  Mar-91         7017   1.040\n",
       "368  Feb-91         6838   1.094\n",
       "371  Nov-90         7241   1.324\n",
       "372  Oct-90         7226   1.335\n",
       "373  Sep-90         6914   1.258\n",
       "\n",
       "[370 rows x 3 columns]"
      ]
     },
     "execution_count": 190,
     "metadata": {},
     "output_type": "execute_result"
    }
   ],
   "source": []
  },
  {
   "cell_type": "code",
   "execution_count": null,
   "id": "5a206af6",
   "metadata": {},
   "outputs": [],
   "source": []
  }
 ],
 "metadata": {
  "kernelspec": {
   "display_name": "Python 3 (ipykernel)",
   "language": "python",
   "name": "python3"
  },
  "language_info": {
   "codemirror_mode": {
    "name": "ipython",
    "version": 3
   },
   "file_extension": ".py",
   "mimetype": "text/x-python",
   "name": "python",
   "nbconvert_exporter": "python",
   "pygments_lexer": "ipython3",
   "version": "3.9.7"
  }
 },
 "nbformat": 4,
 "nbformat_minor": 5
}
