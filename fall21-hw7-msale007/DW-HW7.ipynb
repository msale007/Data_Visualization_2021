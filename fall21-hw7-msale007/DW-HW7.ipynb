{
 "cells": [
  {
   "cell_type": "code",
   "execution_count": 38,
   "id": "6c55f029",
   "metadata": {},
   "outputs": [],
   "source": [
    "#Import libraries \n",
    "import pandas as pd\n",
    "import numpy as np\n",
    "from numpy import *\n",
    "import matplotlib.pyplot as plt\n",
    "%matplotlib inline"
   ]
  },
  {
   "cell_type": "code",
   "execution_count": 40,
   "id": "5364df8f",
   "metadata": {},
   "outputs": [
    {
     "data": {
      "text/html": [
       "<div>\n",
       "<style scoped>\n",
       "    .dataframe tbody tr th:only-of-type {\n",
       "        vertical-align: middle;\n",
       "    }\n",
       "\n",
       "    .dataframe tbody tr th {\n",
       "        vertical-align: top;\n",
       "    }\n",
       "\n",
       "    .dataframe thead th {\n",
       "        text-align: right;\n",
       "    }\n",
       "</style>\n",
       "<table border=\"1\" class=\"dataframe\">\n",
       "  <thead>\n",
       "    <tr style=\"text-align: right;\">\n",
       "      <th></th>\n",
       "      <th>date</th>\n",
       "      <th>geoid</th>\n",
       "      <th>cases</th>\n",
       "      <th>cases_avg</th>\n",
       "      <th>cases_avg_per_100k</th>\n",
       "      <th>deaths</th>\n",
       "      <th>deaths_avg</th>\n",
       "      <th>deaths_avg_per_100k</th>\n",
       "    </tr>\n",
       "  </thead>\n",
       "  <tbody>\n",
       "    <tr>\n",
       "      <th>0</th>\n",
       "      <td>1/21/2020</td>\n",
       "      <td>USA</td>\n",
       "      <td>1</td>\n",
       "      <td>0.14</td>\n",
       "      <td>0.0</td>\n",
       "      <td>0</td>\n",
       "      <td>0.0</td>\n",
       "      <td>0.0</td>\n",
       "    </tr>\n",
       "    <tr>\n",
       "      <th>1</th>\n",
       "      <td>1/22/2020</td>\n",
       "      <td>USA</td>\n",
       "      <td>0</td>\n",
       "      <td>0.14</td>\n",
       "      <td>0.0</td>\n",
       "      <td>0</td>\n",
       "      <td>0.0</td>\n",
       "      <td>0.0</td>\n",
       "    </tr>\n",
       "    <tr>\n",
       "      <th>2</th>\n",
       "      <td>1/23/2020</td>\n",
       "      <td>USA</td>\n",
       "      <td>0</td>\n",
       "      <td>0.14</td>\n",
       "      <td>0.0</td>\n",
       "      <td>0</td>\n",
       "      <td>0.0</td>\n",
       "      <td>0.0</td>\n",
       "    </tr>\n",
       "    <tr>\n",
       "      <th>3</th>\n",
       "      <td>1/24/2020</td>\n",
       "      <td>USA</td>\n",
       "      <td>1</td>\n",
       "      <td>0.29</td>\n",
       "      <td>0.0</td>\n",
       "      <td>0</td>\n",
       "      <td>0.0</td>\n",
       "      <td>0.0</td>\n",
       "    </tr>\n",
       "    <tr>\n",
       "      <th>4</th>\n",
       "      <td>1/25/2020</td>\n",
       "      <td>USA</td>\n",
       "      <td>1</td>\n",
       "      <td>0.43</td>\n",
       "      <td>0.0</td>\n",
       "      <td>0</td>\n",
       "      <td>0.0</td>\n",
       "      <td>0.0</td>\n",
       "    </tr>\n",
       "  </tbody>\n",
       "</table>\n",
       "</div>"
      ],
      "text/plain": [
       "        date geoid  cases  cases_avg  cases_avg_per_100k  deaths  deaths_avg  \\\n",
       "0  1/21/2020   USA      1       0.14                 0.0       0         0.0   \n",
       "1  1/22/2020   USA      0       0.14                 0.0       0         0.0   \n",
       "2  1/23/2020   USA      0       0.14                 0.0       0         0.0   \n",
       "3  1/24/2020   USA      1       0.29                 0.0       0         0.0   \n",
       "4  1/25/2020   USA      1       0.43                 0.0       0         0.0   \n",
       "\n",
       "   deaths_avg_per_100k  \n",
       "0                  0.0  \n",
       "1                  0.0  \n",
       "2                  0.0  \n",
       "3                  0.0  \n",
       "4                  0.0  "
      ]
     },
     "execution_count": 40,
     "metadata": {},
     "output_type": "execute_result"
    }
   ],
   "source": [
    "df_covid = pd.read_csv('C:/Maryam/ODU/Fall2021/DataVisualisation/HWs/HW7/us.csv')\n",
    "df_covid.head()"
   ]
  },
  {
   "cell_type": "code",
   "execution_count": 41,
   "id": "10b58050",
   "metadata": {},
   "outputs": [
    {
     "data": {
      "text/plain": [
       "date                   0\n",
       "geoid                  0\n",
       "cases                  0\n",
       "cases_avg              0\n",
       "cases_avg_per_100k     0\n",
       "deaths                 0\n",
       "deaths_avg             0\n",
       "deaths_avg_per_100k    0\n",
       "dtype: int64"
      ]
     },
     "execution_count": 41,
     "metadata": {},
     "output_type": "execute_result"
    }
   ],
   "source": [
    "df_covid.isnull().sum()"
   ]
  },
  {
   "cell_type": "code",
   "execution_count": 42,
   "id": "54736891",
   "metadata": {},
   "outputs": [
    {
     "data": {
      "text/plain": [
       "(679, 8)"
      ]
     },
     "execution_count": 42,
     "metadata": {},
     "output_type": "execute_result"
    }
   ],
   "source": [
    "df_covid.shape"
   ]
  },
  {
   "cell_type": "code",
   "execution_count": 43,
   "id": "3e56fc73",
   "metadata": {},
   "outputs": [
    {
     "data": {
      "text/html": [
       "<div>\n",
       "<style scoped>\n",
       "    .dataframe tbody tr th:only-of-type {\n",
       "        vertical-align: middle;\n",
       "    }\n",
       "\n",
       "    .dataframe tbody tr th {\n",
       "        vertical-align: top;\n",
       "    }\n",
       "\n",
       "    .dataframe thead th {\n",
       "        text-align: right;\n",
       "    }\n",
       "</style>\n",
       "<table border=\"1\" class=\"dataframe\">\n",
       "  <thead>\n",
       "    <tr style=\"text-align: right;\">\n",
       "      <th></th>\n",
       "      <th>cases</th>\n",
       "      <th>cases_avg</th>\n",
       "      <th>cases_avg_per_100k</th>\n",
       "      <th>deaths</th>\n",
       "      <th>deaths_avg</th>\n",
       "      <th>deaths_avg_per_100k</th>\n",
       "    </tr>\n",
       "  </thead>\n",
       "  <tbody>\n",
       "    <tr>\n",
       "      <th>count</th>\n",
       "      <td>679.000000</td>\n",
       "      <td>679.000000</td>\n",
       "      <td>679.000000</td>\n",
       "      <td>679.000000</td>\n",
       "      <td>679.000000</td>\n",
       "      <td>679.000000</td>\n",
       "    </tr>\n",
       "    <tr>\n",
       "      <th>mean</th>\n",
       "      <td>71298.223859</td>\n",
       "      <td>70414.986701</td>\n",
       "      <td>21.221429</td>\n",
       "      <td>1147.706922</td>\n",
       "      <td>1120.393814</td>\n",
       "      <td>0.337614</td>\n",
       "    </tr>\n",
       "    <tr>\n",
       "      <th>std</th>\n",
       "      <td>65529.562321</td>\n",
       "      <td>59597.455820</td>\n",
       "      <td>17.961358</td>\n",
       "      <td>986.124640</td>\n",
       "      <td>809.179478</td>\n",
       "      <td>0.243871</td>\n",
       "    </tr>\n",
       "    <tr>\n",
       "      <th>min</th>\n",
       "      <td>-23999.000000</td>\n",
       "      <td>0.140000</td>\n",
       "      <td>0.000000</td>\n",
       "      <td>0.000000</td>\n",
       "      <td>0.000000</td>\n",
       "      <td>0.000000</td>\n",
       "    </tr>\n",
       "    <tr>\n",
       "      <th>25%</th>\n",
       "      <td>25413.500000</td>\n",
       "      <td>26119.655000</td>\n",
       "      <td>7.870000</td>\n",
       "      <td>409.000000</td>\n",
       "      <td>597.120000</td>\n",
       "      <td>0.180000</td>\n",
       "    </tr>\n",
       "    <tr>\n",
       "      <th>50%</th>\n",
       "      <td>50468.000000</td>\n",
       "      <td>54594.060000</td>\n",
       "      <td>16.450000</td>\n",
       "      <td>917.000000</td>\n",
       "      <td>931.050000</td>\n",
       "      <td>0.280000</td>\n",
       "    </tr>\n",
       "    <tr>\n",
       "      <th>75%</th>\n",
       "      <td>94528.500000</td>\n",
       "      <td>94425.140000</td>\n",
       "      <td>28.455000</td>\n",
       "      <td>1611.500000</td>\n",
       "      <td>1570.620000</td>\n",
       "      <td>0.475000</td>\n",
       "    </tr>\n",
       "    <tr>\n",
       "      <th>max</th>\n",
       "      <td>301138.000000</td>\n",
       "      <td>251231.860000</td>\n",
       "      <td>75.720000</td>\n",
       "      <td>5463.000000</td>\n",
       "      <td>3342.210000</td>\n",
       "      <td>1.010000</td>\n",
       "    </tr>\n",
       "  </tbody>\n",
       "</table>\n",
       "</div>"
      ],
      "text/plain": [
       "               cases      cases_avg  cases_avg_per_100k       deaths  \\\n",
       "count     679.000000     679.000000          679.000000   679.000000   \n",
       "mean    71298.223859   70414.986701           21.221429  1147.706922   \n",
       "std     65529.562321   59597.455820           17.961358   986.124640   \n",
       "min    -23999.000000       0.140000            0.000000     0.000000   \n",
       "25%     25413.500000   26119.655000            7.870000   409.000000   \n",
       "50%     50468.000000   54594.060000           16.450000   917.000000   \n",
       "75%     94528.500000   94425.140000           28.455000  1611.500000   \n",
       "max    301138.000000  251231.860000           75.720000  5463.000000   \n",
       "\n",
       "        deaths_avg  deaths_avg_per_100k  \n",
       "count   679.000000           679.000000  \n",
       "mean   1120.393814             0.337614  \n",
       "std     809.179478             0.243871  \n",
       "min       0.000000             0.000000  \n",
       "25%     597.120000             0.180000  \n",
       "50%     931.050000             0.280000  \n",
       "75%    1570.620000             0.475000  \n",
       "max    3342.210000             1.010000  "
      ]
     },
     "execution_count": 43,
     "metadata": {},
     "output_type": "execute_result"
    }
   ],
   "source": [
    "df_covid.describe()"
   ]
  },
  {
   "cell_type": "code",
   "execution_count": 45,
   "id": "e332067b",
   "metadata": {},
   "outputs": [
    {
     "data": {
      "text/html": [
       "<div>\n",
       "<style scoped>\n",
       "    .dataframe tbody tr th:only-of-type {\n",
       "        vertical-align: middle;\n",
       "    }\n",
       "\n",
       "    .dataframe tbody tr th {\n",
       "        vertical-align: top;\n",
       "    }\n",
       "\n",
       "    .dataframe thead th {\n",
       "        text-align: right;\n",
       "    }\n",
       "</style>\n",
       "<table border=\"1\" class=\"dataframe\">\n",
       "  <thead>\n",
       "    <tr style=\"text-align: right;\">\n",
       "      <th></th>\n",
       "      <th>date</th>\n",
       "      <th>cases</th>\n",
       "      <th>deaths</th>\n",
       "    </tr>\n",
       "  </thead>\n",
       "  <tbody>\n",
       "    <tr>\n",
       "      <th>0</th>\n",
       "      <td>1/21/2020</td>\n",
       "      <td>1</td>\n",
       "      <td>0</td>\n",
       "    </tr>\n",
       "    <tr>\n",
       "      <th>1</th>\n",
       "      <td>1/22/2020</td>\n",
       "      <td>0</td>\n",
       "      <td>0</td>\n",
       "    </tr>\n",
       "    <tr>\n",
       "      <th>2</th>\n",
       "      <td>1/23/2020</td>\n",
       "      <td>0</td>\n",
       "      <td>0</td>\n",
       "    </tr>\n",
       "    <tr>\n",
       "      <th>3</th>\n",
       "      <td>1/24/2020</td>\n",
       "      <td>1</td>\n",
       "      <td>0</td>\n",
       "    </tr>\n",
       "    <tr>\n",
       "      <th>4</th>\n",
       "      <td>1/25/2020</td>\n",
       "      <td>1</td>\n",
       "      <td>0</td>\n",
       "    </tr>\n",
       "  </tbody>\n",
       "</table>\n",
       "</div>"
      ],
      "text/plain": [
       "        date  cases  deaths\n",
       "0  1/21/2020      1       0\n",
       "1  1/22/2020      0       0\n",
       "2  1/23/2020      0       0\n",
       "3  1/24/2020      1       0\n",
       "4  1/25/2020      1       0"
      ]
     },
     "execution_count": 45,
     "metadata": {},
     "output_type": "execute_result"
    }
   ],
   "source": [
    "df_main_covid = df_covid.drop(['cases_avg','geoid','cases_avg_per_100k','deaths_avg','deaths_avg_per_100k'], axis =1)\n",
    "df_main_covid.head()"
   ]
  },
  {
   "cell_type": "code",
   "execution_count": 46,
   "id": "6a0c902e",
   "metadata": {},
   "outputs": [
    {
     "data": {
      "image/png": "[encoded data removed]",
      "text/plain": [
       "<Figure size 720x360 with 1 Axes>"
      ]
     },
     "metadata": {
      "needs_background": "light"
     },
     "output_type": "display_data"
    }
   ],
   "source": [
    "# create boxplot\n",
    "plt.figure(figsize=(10, 5))\n",
    "boxplot_cases = df_main_covid.boxplot(column=['cases'])\n",
    "plt.title('Boxplot: distribution of the Covid Cases in US',fontsize=14, color='black')\n",
    "plt.ylabel('Number', fontsize=14, color='black')\n",
    "plt.ticklabel_format(style='plain',axis='y') \n",
    "plt.show()"
   ]
  },
  {
   "cell_type": "code",
   "execution_count": 47,
   "id": "e248cf18",
   "metadata": {},
   "outputs": [
    {
     "data": {
      "text/plain": [
       "Text(0, 0.5, 'Number')"
      ]
     },
     "execution_count": 47,
     "metadata": {},
     "output_type": "execute_result"
    },
    {
     "data": {
      "image/png": "[encoded data removed]",
      "text/plain": [
       "<Figure size 720x360 with 1 Axes>"
      ]
     },
     "metadata": {
      "needs_background": "light"
     },
     "output_type": "display_data"
    }
   ],
   "source": [
    "plt.figure(figsize=(10, 5))\n",
    "boxplot_deaths = df_main_covid.boxplot(column=['deaths'])\n",
    "plt.title('Boxplot: distribution of the Covid Deaths in US',fontsize=14, color='black')\n",
    "plt.ylabel('Number', fontsize=14, color='black')\n"
   ]
  },
  {
   "cell_type": "code",
   "execution_count": 48,
   "id": "89339f33",
   "metadata": {},
   "outputs": [
    {
     "data": {
      "text/plain": [
       "Text(0, 0.5, 'Frequency')"
      ]
     },
     "execution_count": 48,
     "metadata": {},
     "output_type": "execute_result"
    },
    {
     "data": {
      "image/png": "[encoded data removed]",
      "text/plain": [
       "<Figure size 720x360 with 1 Axes>"
      ]
     },
     "metadata": {
      "needs_background": "light"
     },
     "output_type": "display_data"
    },
    {
     "data": {
      "image/png": "[encoded data removed]",
      "text/plain": [
       "<Figure size 720x360 with 1 Axes>"
      ]
     },
     "metadata": {
      "needs_background": "light"
     },
     "output_type": "display_data"
    }
   ],
   "source": [
    "# Creating Histogram\n",
    "plt.figure(figsize=(10, 5))\n",
    "plt.hist(x = df_main_covid['cases'], bins=12, color='blue', rwidth=0.85)\n",
    "plt.title('Histogram of Cases',fontsize=14, color='black')\n",
    "plt.xlabel('Cases', fontsize=14, color='black')\n",
    "plt.ylabel('Frequency', fontsize=14, color='black')\n",
    "plt.ticklabel_format(style='plain',axis='x') \n",
    "\n",
    "\n",
    "\n",
    "plt.figure(figsize=(10, 5))\n",
    "plt.hist(x = df_main_covid['deaths'], bins=12, color='blue', rwidth=0.85)\n",
    "plt.title('Histogram of Deaths',fontsize=14, color='black')\n",
    "plt.xlabel('Deaths', fontsize=14, color='black')\n",
    "plt.ylabel('Frequency', fontsize=14, color='black')"
   ]
  },
  {
   "cell_type": "code",
   "execution_count": 49,
   "id": "af73bda4",
   "metadata": {},
   "outputs": [
    {
     "data": {
      "text/plain": [
       "Text(0, 0.5, 'Frequency')"
      ]
     },
     "execution_count": 49,
     "metadata": {},
     "output_type": "execute_result"
    },
    {
     "data": {
      "image/png": "[encoded data removed]",
      "text/plain": [
       "<Figure size 720x360 with 1 Axes>"
      ]
     },
     "metadata": {
      "needs_background": "light"
     },
     "output_type": "display_data"
    },
    {
     "data": {
      "image/png": "[encoded data removed]",
      "text/plain": [
       "<Figure size 720x360 with 1 Axes>"
      ]
     },
     "metadata": {
      "needs_background": "light"
     },
     "output_type": "display_data"
    }
   ],
   "source": [
    "# Changing bins in Histogram\n",
    "plt.figure(figsize=(10, 5))\n",
    "plt.hist(x = df_main_covid['cases'], bins=20, color='green', rwidth=0.85)\n",
    "plt.title('Histogram of Cases',fontsize=14, color='black')\n",
    "plt.xlabel('Cases', fontsize=14, color='black')\n",
    "plt.ylabel('Frequency', fontsize=14, color='black')\n",
    "plt.ticklabel_format(style='plain',axis='x') \n",
    "\n",
    "\n",
    "\n",
    "plt.figure(figsize=(10, 5))\n",
    "plt.hist(x = df_main_covid['deaths'], bins=20, color='green', rwidth=0.85)\n",
    "plt.title('Histogram of Deaths',fontsize=14, color='black')\n",
    "plt.xlabel('Deaths', fontsize=14, color='black')\n",
    "plt.ylabel('Frequency', fontsize=14, color='black')"
   ]
  },
  {
   "cell_type": "code",
   "execution_count": 50,
   "id": "402955ee",
   "metadata": {},
   "outputs": [
    {
     "data": {
      "image/png": "[encoded data removed]",
      "text/plain": [
       "<Figure size 432x288 with 1 Axes>"
      ]
     },
     "metadata": {
      "needs_background": "light"
     },
     "output_type": "display_data"
    },
    {
     "data": {
      "image/png": "[encoded data removed]",
      "text/plain": [
       "<Figure size 432x288 with 1 Axes>"
      ]
     },
     "metadata": {
      "needs_background": "light"
     },
     "output_type": "display_data"
    }
   ],
   "source": [
    "#Import seaborn library and generate ecdf plot\n",
    "import seaborn as sns\n",
    "sns.ecdfplot(x = df_main_covid['cases'])\n",
    "plt.title('eCDF for Cases using seaborn library ',fontsize=10, color='black')\n",
    "plt.ticklabel_format(style='plain',axis='x') \n",
    "plt.show()\n",
    "\n",
    "sns.ecdfplot(x = df_main_covid['deaths'])\n",
    "plt.title('eCDF for Deaths using seaborn library ',fontsize=10, color='black')\n",
    "plt.show()"
   ]
  },
  {
   "cell_type": "code",
   "execution_count": 51,
   "id": "80895a78",
   "metadata": {},
   "outputs": [
    {
     "data": {
      "text/html": [
       "<div>\n",
       "<style scoped>\n",
       "    .dataframe tbody tr th:only-of-type {\n",
       "        vertical-align: middle;\n",
       "    }\n",
       "\n",
       "    .dataframe tbody tr th {\n",
       "        vertical-align: top;\n",
       "    }\n",
       "\n",
       "    .dataframe thead th {\n",
       "        text-align: right;\n",
       "    }\n",
       "</style>\n",
       "<table border=\"1\" class=\"dataframe\">\n",
       "  <thead>\n",
       "    <tr style=\"text-align: right;\">\n",
       "      <th></th>\n",
       "      <th>date</th>\n",
       "      <th>cases</th>\n",
       "      <th>deaths</th>\n",
       "    </tr>\n",
       "  </thead>\n",
       "  <tbody>\n",
       "    <tr>\n",
       "      <th>0</th>\n",
       "      <td>1/21/2020</td>\n",
       "      <td>1</td>\n",
       "      <td>0</td>\n",
       "    </tr>\n",
       "    <tr>\n",
       "      <th>1</th>\n",
       "      <td>1/22/2020</td>\n",
       "      <td>0</td>\n",
       "      <td>0</td>\n",
       "    </tr>\n",
       "    <tr>\n",
       "      <th>2</th>\n",
       "      <td>1/23/2020</td>\n",
       "      <td>0</td>\n",
       "      <td>0</td>\n",
       "    </tr>\n",
       "    <tr>\n",
       "      <th>3</th>\n",
       "      <td>1/24/2020</td>\n",
       "      <td>1</td>\n",
       "      <td>0</td>\n",
       "    </tr>\n",
       "    <tr>\n",
       "      <th>4</th>\n",
       "      <td>1/25/2020</td>\n",
       "      <td>1</td>\n",
       "      <td>0</td>\n",
       "    </tr>\n",
       "  </tbody>\n",
       "</table>\n",
       "</div>"
      ],
      "text/plain": [
       "        date  cases  deaths\n",
       "0  1/21/2020      1       0\n",
       "1  1/22/2020      0       0\n",
       "2  1/23/2020      0       0\n",
       "3  1/24/2020      1       0\n",
       "4  1/25/2020      1       0"
      ]
     },
     "execution_count": 51,
     "metadata": {},
     "output_type": "execute_result"
    }
   ],
   "source": [
    "df_main_covid.head()"
   ]
  },
  {
   "cell_type": "code",
   "execution_count": 52,
   "id": "8c1f3be6",
   "metadata": {},
   "outputs": [],
   "source": [
    "import datetime \n",
    "df_main_covid.index = pd.to_datetime(df_main_covid['date'],format='%m/%d/%Y')\n",
    "df_month= df_main_covid.groupby([pd.Grouper(freq='M')]).sum()"
   ]
  },
  {
   "cell_type": "code",
   "execution_count": 62,
   "id": "ebd82499",
   "metadata": {},
   "outputs": [
    {
     "data": {
      "text/html": [
       "<div>\n",
       "<style scoped>\n",
       "    .dataframe tbody tr th:only-of-type {\n",
       "        vertical-align: middle;\n",
       "    }\n",
       "\n",
       "    .dataframe tbody tr th {\n",
       "        vertical-align: top;\n",
       "    }\n",
       "\n",
       "    .dataframe thead th {\n",
       "        text-align: right;\n",
       "    }\n",
       "</style>\n",
       "<table border=\"1\" class=\"dataframe\">\n",
       "  <thead>\n",
       "    <tr style=\"text-align: right;\">\n",
       "      <th></th>\n",
       "      <th>date</th>\n",
       "      <th>cases</th>\n",
       "      <th>deaths</th>\n",
       "    </tr>\n",
       "  </thead>\n",
       "  <tbody>\n",
       "    <tr>\n",
       "      <th>0</th>\n",
       "      <td>2020-01-31</td>\n",
       "      <td>7</td>\n",
       "      <td>0</td>\n",
       "    </tr>\n",
       "    <tr>\n",
       "      <th>1</th>\n",
       "      <td>2020-02-29</td>\n",
       "      <td>63</td>\n",
       "      <td>1</td>\n",
       "    </tr>\n",
       "    <tr>\n",
       "      <th>2</th>\n",
       "      <td>2020-03-31</td>\n",
       "      <td>188391</td>\n",
       "      <td>4303</td>\n",
       "    </tr>\n",
       "    <tr>\n",
       "      <th>3</th>\n",
       "      <td>2020-04-30</td>\n",
       "      <td>887295</td>\n",
       "      <td>58836</td>\n",
       "    </tr>\n",
       "    <tr>\n",
       "      <th>4</th>\n",
       "      <td>2020-05-31</td>\n",
       "      <td>723546</td>\n",
       "      <td>41239</td>\n",
       "    </tr>\n",
       "    <tr>\n",
       "      <th>5</th>\n",
       "      <td>2020-06-30</td>\n",
       "      <td>854019</td>\n",
       "      <td>23083</td>\n",
       "    </tr>\n",
       "    <tr>\n",
       "      <th>6</th>\n",
       "      <td>2020-07-31</td>\n",
       "      <td>1918348</td>\n",
       "      <td>26400</td>\n",
       "    </tr>\n",
       "    <tr>\n",
       "      <th>7</th>\n",
       "      <td>2020-08-31</td>\n",
       "      <td>1473788</td>\n",
       "      <td>29610</td>\n",
       "    </tr>\n",
       "    <tr>\n",
       "      <th>8</th>\n",
       "      <td>2020-09-30</td>\n",
       "      <td>1217278</td>\n",
       "      <td>23380</td>\n",
       "    </tr>\n",
       "    <tr>\n",
       "      <th>9</th>\n",
       "      <td>2020-10-31</td>\n",
       "      <td>1946272</td>\n",
       "      <td>23660</td>\n",
       "    </tr>\n",
       "    <tr>\n",
       "      <th>10</th>\n",
       "      <td>2020-11-30</td>\n",
       "      <td>4406314</td>\n",
       "      <td>37519</td>\n",
       "    </tr>\n",
       "    <tr>\n",
       "      <th>11</th>\n",
       "      <td>2020-12-31</td>\n",
       "      <td>6409480</td>\n",
       "      <td>78019</td>\n",
       "    </tr>\n",
       "    <tr>\n",
       "      <th>12</th>\n",
       "      <td>2021-01-31</td>\n",
       "      <td>6196629</td>\n",
       "      <td>95249</td>\n",
       "    </tr>\n",
       "    <tr>\n",
       "      <th>13</th>\n",
       "      <td>2021-02-28</td>\n",
       "      <td>2402731</td>\n",
       "      <td>71680</td>\n",
       "    </tr>\n",
       "    <tr>\n",
       "      <th>14</th>\n",
       "      <td>2021-03-31</td>\n",
       "      <td>1854725</td>\n",
       "      <td>38679</td>\n",
       "    </tr>\n",
       "    <tr>\n",
       "      <th>15</th>\n",
       "      <td>2021-04-30</td>\n",
       "      <td>1883488</td>\n",
       "      <td>23979</td>\n",
       "    </tr>\n",
       "    <tr>\n",
       "      <th>16</th>\n",
       "      <td>2021-05-31</td>\n",
       "      <td>915538</td>\n",
       "      <td>18684</td>\n",
       "    </tr>\n",
       "    <tr>\n",
       "      <th>17</th>\n",
       "      <td>2021-06-30</td>\n",
       "      <td>361852</td>\n",
       "      <td>10125</td>\n",
       "    </tr>\n",
       "    <tr>\n",
       "      <th>18</th>\n",
       "      <td>2021-07-31</td>\n",
       "      <td>1378800</td>\n",
       "      <td>8473</td>\n",
       "    </tr>\n",
       "    <tr>\n",
       "      <th>19</th>\n",
       "      <td>2021-08-31</td>\n",
       "      <td>4298065</td>\n",
       "      <td>27600</td>\n",
       "    </tr>\n",
       "    <tr>\n",
       "      <th>20</th>\n",
       "      <td>2021-09-30</td>\n",
       "      <td>4141403</td>\n",
       "      <td>57469</td>\n",
       "    </tr>\n",
       "    <tr>\n",
       "      <th>21</th>\n",
       "      <td>2021-10-31</td>\n",
       "      <td>2476063</td>\n",
       "      <td>47547</td>\n",
       "    </tr>\n",
       "    <tr>\n",
       "      <th>22</th>\n",
       "      <td>2021-11-30</td>\n",
       "      <td>2477399</td>\n",
       "      <td>33758</td>\n",
       "    </tr>\n",
       "  </tbody>\n",
       "</table>\n",
       "</div>"
      ],
      "text/plain": [
       "         date    cases  deaths\n",
       "0  2020-01-31        7       0\n",
       "1  2020-02-29       63       1\n",
       "2  2020-03-31   188391    4303\n",
       "3  2020-04-30   887295   58836\n",
       "4  2020-05-31   723546   41239\n",
       "5  2020-06-30   854019   23083\n",
       "6  2020-07-31  1918348   26400\n",
       "7  2020-08-31  1473788   29610\n",
       "8  2020-09-30  1217278   23380\n",
       "9  2020-10-31  1946272   23660\n",
       "10 2020-11-30  4406314   37519\n",
       "11 2020-12-31  6409480   78019\n",
       "12 2021-01-31  6196629   95249\n",
       "13 2021-02-28  2402731   71680\n",
       "14 2021-03-31  1854725   38679\n",
       "15 2021-04-30  1883488   23979\n",
       "16 2021-05-31   915538   18684\n",
       "17 2021-06-30   361852   10125\n",
       "18 2021-07-31  1378800    8473\n",
       "19 2021-08-31  4298065   27600\n",
       "20 2021-09-30  4141403   57469\n",
       "21 2021-10-31  2476063   47547\n",
       "22 2021-11-30  2477399   33758"
      ]
     },
     "execution_count": 62,
     "metadata": {},
     "output_type": "execute_result"
    }
   ],
   "source": [
    "df_final = df_month.reset_index()\n",
    "df_final"
   ]
  },
  {
   "cell_type": "code",
   "execution_count": 67,
   "id": "6349fb0d",
   "metadata": {},
   "outputs": [],
   "source": [
    "df_final['cases(m)'] = df_final['cases']/1000000 \n",
    "df_final['deaths(m)'] = df_final['deaths']/1000000 \n",
    "df_2020 = df_final[0:12]"
   ]
  },
  {
   "cell_type": "code",
   "execution_count": 73,
   "id": "92d5b2bd",
   "metadata": {},
   "outputs": [
    {
     "data": {
      "text/plain": [
       "<Figure size 720x360 with 0 Axes>"
      ]
     },
     "metadata": {},
     "output_type": "display_data"
    },
    {
     "data": {
      "image/png": "[encoded data removed]",
      "text/plain": [
       "<Figure size 720x360 with 1 Axes>"
      ]
     },
     "metadata": {
      "needs_background": "light"
     },
     "output_type": "display_data"
    }
   ],
   "source": [
    "plt.figure(figsize=(10, 5))\n",
    "date = ['Jan','Feb','Mar','Apr','May','Jun','Jul','Aug','Sep', 'Oct', 'Nov', 'Dec']\n",
    "plt.figure(figsize=(10, 5))\n",
    "plt.plot(date, df_2020['cases(m)'], linewidth=4,linestyle='dotted', color = 'orange')\n",
    "plt.title('Covid Cases Rate IN US (2020)',fontsize=18, color='black')\n",
    "plt.xlabel('Month', fontsize=18, color='black')\n",
    "plt.ylabel('Number of Cases (million)', fontsize=18, color='black')\n",
    "plt.ticklabel_format(style='plain',axis='y') \n",
    "plt.show()"
   ]
  },
  {
   "cell_type": "code",
   "execution_count": 74,
   "id": "75228b6d",
   "metadata": {},
   "outputs": [
    {
     "data": {
      "text/plain": [
       "<Figure size 720x360 with 0 Axes>"
      ]
     },
     "metadata": {},
     "output_type": "display_data"
    },
    {
     "data": {
      "image/png": "[encoded data removed]",
      "text/plain": [
       "<Figure size 720x360 with 1 Axes>"
      ]
     },
     "metadata": {
      "needs_background": "light"
     },
     "output_type": "display_data"
    }
   ],
   "source": [
    "plt.figure(figsize=(10, 5))\n",
    "date = ['Jan','Feb','Mar','Apr','May','Jun','Jul','Aug','Sep', 'Oct', 'Nov', 'Dec']\n",
    "plt.figure(figsize=(10, 5))\n",
    "plt.plot(date, df_2020['deaths(m)'], linewidth=4,linestyle='dotted', color = 'red')\n",
    "plt.title('Covid Death Rate IN US (2020)',fontsize=18, color='black')\n",
    "plt.xlabel('Month', fontsize=18, color='black')\n",
    "plt.ylabel('Number of Death (million)', fontsize=18, color='black')\n",
    "plt.ticklabel_format(style='plain',axis='y') \n",
    "plt.show()"
   ]
  },
  {
   "cell_type": "code",
   "execution_count": null,
   "id": "9c0e2349",
   "metadata": {},
   "outputs": [],
   "source": []
  }
 ],
 "metadata": {
  "kernelspec": {
   "display_name": "Python 3 (ipykernel)",
   "language": "python",
   "name": "python3"
  },
  "language_info": {
   "codemirror_mode": {
    "name": "ipython",
    "version": 3
   },
   "file_extension": ".py",
   "mimetype": "text/x-python",
   "name": "python",
   "nbconvert_exporter": "python",
   "pygments_lexer": "ipython3",
   "version": "3.9.7"
  }
 },
 "nbformat": 4,
 "nbformat_minor": 5
}
